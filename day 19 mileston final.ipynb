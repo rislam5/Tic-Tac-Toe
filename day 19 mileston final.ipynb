{
 "cells": [
  {
   "cell_type": "code",
   "execution_count": 1,
   "metadata": {},
   "outputs": [
    {
     "name": "stdout",
     "output_type": "stream",
     "text": [
      "Hello World!\n"
     ]
    }
   ],
   "source": [
    "from IPython.display import clear_output\n",
    "\n",
    "for i in range(10):\n",
    "    clear_output(wait=True)   #to print the last output we are using this\n",
    "    print(\"Hello World!\")"
   ]
  },
  {
   "cell_type": "markdown",
   "metadata": {},
   "source": [
    "**Step 1: Write a function that can print out a board. Set up your board as a list, where each index 1-9 corresponds with a number on a number pad, so you get a 3 by 3 board representation.**\n"
   ]
  },
  {
   "cell_type": "code",
   "execution_count": 2,
   "metadata": {},
   "outputs": [],
   "source": [
    "from IPython.display import clear_output\n",
    "def display_board(board):\n",
    "    print('   |   |  ')\n",
    "    print(f' {board[7]} | {board[8]} | {board[9]}')\n",
    "    print('   |   |  ')\n",
    "    print('---|---|--')\n",
    "    print('   |   |  ')\n",
    "    print(f' {board[4]} | {board[5]} | {board[6]}')\n",
    "    print('   |   |  ')\n",
    "    print('---|---|--')\n",
    "    print('   |   |  ')\n",
    "    print(f' { board[1]} | {board[2]} | {board[3]}')\n",
    "    print('   |   |  ')"
   ]
  },
  {
   "cell_type": "code",
   "execution_count": 3,
   "metadata": {
    "scrolled": true
   },
   "outputs": [
    {
     "name": "stdout",
     "output_type": "stream",
     "text": [
      "   |   |  \n",
      " X | O | X\n",
      "   |   |  \n",
      "---|---|--\n",
      "   |   |  \n",
      " O | X | O\n",
      "   |   |  \n",
      "---|---|--\n",
      "   |   |  \n",
      " X | O | X\n",
      "   |   |  \n"
     ]
    }
   ],
   "source": [
    "#to test the previous cell\n",
    "test_board = ['#','X','O','X','O','X','O','X','O','X']\n",
    "display_board(test_board)"
   ]
  },
  {
   "cell_type": "markdown",
   "metadata": {},
   "source": [
    "**Step 2: Write a function that can take in a player input and assign their marker as 'X' or 'O'. Think about using *while* loops to continually ask until you get a correct answer.**"
   ]
  },
  {
   "cell_type": "code",
   "execution_count": 4,
   "metadata": {},
   "outputs": [],
   "source": [
    "def player_input():\n",
    "    player_1=input('player 1, choose \"x\" or \"O\": ')\n",
    "    while player_1!='x' and player_1!='o':\n",
    "        player_1=input('player 1, choose \"x\" or \"O\": ')\n",
    "        \n",
    "    if player_1=='x':\n",
    "        player_2='o'\n",
    "    else:\n",
    "        player_2='x'\n",
    "    return(player_1,player_2)"
   ]
  },
  {
   "cell_type": "code",
   "execution_count": 5,
   "metadata": {},
   "outputs": [
    {
     "name": "stdout",
     "output_type": "stream",
     "text": [
      "player 1, choose \"x\" or \"O\": x\n"
     ]
    },
    {
     "data": {
      "text/plain": [
       "('x', 'o')"
      ]
     },
     "execution_count": 5,
     "metadata": {},
     "output_type": "execute_result"
    }
   ],
   "source": [
    "#to test the previous cell\n",
    "player_input()"
   ]
  },
  {
   "cell_type": "code",
   "execution_count": 6,
   "metadata": {},
   "outputs": [
    {
     "name": "stdout",
     "output_type": "stream",
     "text": [
      "player 1, choose \"x\" or \"O\": x\n"
     ]
    }
   ],
   "source": [
    "player_1, player_2=player_input()"
   ]
  },
  {
   "cell_type": "code",
   "execution_count": 7,
   "metadata": {},
   "outputs": [
    {
     "data": {
      "text/plain": [
       "'x'"
      ]
     },
     "execution_count": 7,
     "metadata": {},
     "output_type": "execute_result"
    }
   ],
   "source": [
    "player_1"
   ]
  },
  {
   "cell_type": "code",
   "execution_count": 8,
   "metadata": {},
   "outputs": [
    {
     "data": {
      "text/plain": [
       "'o'"
      ]
     },
     "execution_count": 8,
     "metadata": {},
     "output_type": "execute_result"
    }
   ],
   "source": [
    "player_2"
   ]
  },
  {
   "cell_type": "markdown",
   "metadata": {},
   "source": [
    "**Step 3: Write a function that takes in the board list object, a marker ('X' or 'O'), and a desired position (number 1-9) and assigns it to the board.**"
   ]
  },
  {
   "cell_type": "code",
   "execution_count": 9,
   "metadata": {},
   "outputs": [],
   "source": [
    "def place_marker(board, marker, position):\n",
    "    board[position]=marker"
   ]
  },
  {
   "cell_type": "code",
   "execution_count": 10,
   "metadata": {},
   "outputs": [
    {
     "name": "stdout",
     "output_type": "stream",
     "text": [
      "   |   |  \n",
      " X | O | X\n",
      "   |   |  \n",
      "---|---|--\n",
      "   |   |  \n",
      " # | X | O\n",
      "   |   |  \n",
      "---|---|--\n",
      "   |   |  \n",
      " X | O | X\n",
      "   |   |  \n"
     ]
    }
   ],
   "source": [
    "#to test the previous cell\n",
    "place_marker(test_board,'#',4)\n",
    "display_board(test_board)"
   ]
  },
  {
   "cell_type": "markdown",
   "metadata": {},
   "source": [
    "**Step 4: Write a function that takes in a board and a mark (X or O) and then checks to see if that mark has won. **"
   ]
  },
  {
   "cell_type": "code",
   "execution_count": 11,
   "metadata": {},
   "outputs": [],
   "source": [
    "def win_check(board,mark):\n",
    "    return (board[7]==board[8]==board[9]==mark) or (board[4]==board[5]==board[6]==mark) or (board[1]==board[2]==board[3]==mark) or (board[1]==board[4]==board[7]==mark) or (board[2]==board[5]==board[8]==mark) or (board[3]==board[6]==board[9]==mark) or (board[1]==board[5]==board[9]==mark) or (board[3]==board[5]==board[7]==mark)"
   ]
  },
  {
   "cell_type": "code",
   "execution_count": 12,
   "metadata": {},
   "outputs": [
    {
     "data": {
      "text/plain": [
       "True"
      ]
     },
     "execution_count": 12,
     "metadata": {},
     "output_type": "execute_result"
    }
   ],
   "source": [
    "#to test the previous cell\n",
    "place_marker(test_board,'X',2)\n",
    "win_check(test_board,'X')"
   ]
  },
  {
   "cell_type": "code",
   "execution_count": 13,
   "metadata": {},
   "outputs": [
    {
     "data": {
      "text/plain": [
       "False"
      ]
     },
     "execution_count": 13,
     "metadata": {},
     "output_type": "execute_result"
    }
   ],
   "source": [
    "#to test the previous cell\n",
    "place_marker(test_board,'X',2)\n",
    "win_check(test_board,'O')"
   ]
  },
  {
   "cell_type": "markdown",
   "metadata": {},
   "source": [
    "**Step 5: Write a function that uses the random module to randomly decide which player goes first. You may want to lookup random.randint() Return a string of which player went first.**"
   ]
  },
  {
   "cell_type": "code",
   "execution_count": 14,
   "metadata": {},
   "outputs": [],
   "source": [
    "import random\n",
    "def choice_first():\n",
    "    string=['player_1','player_2']                    \n",
    "    return string[random.randint(0,len(string)-1)]"
   ]
  },
  {
   "cell_type": "code",
   "execution_count": 15,
   "metadata": {},
   "outputs": [
    {
     "data": {
      "text/plain": [
       "'player_1'"
      ]
     },
     "execution_count": 15,
     "metadata": {},
     "output_type": "execute_result"
    }
   ],
   "source": [
    "#to test the previous cell\n",
    "choice_first()"
   ]
  },
  {
   "cell_type": "code",
   "execution_count": 16,
   "metadata": {},
   "outputs": [
    {
     "data": {
      "text/plain": [
       "'player_1'"
      ]
     },
     "execution_count": 16,
     "metadata": {},
     "output_type": "execute_result"
    }
   ],
   "source": [
    "#to test the previous cell\n",
    "choice_first()"
   ]
  },
  {
   "cell_type": "markdown",
   "metadata": {},
   "source": [
    "**Step 6: Write a function that returns a boolean indicating whether a space on the board is freely available.**"
   ]
  },
  {
   "cell_type": "code",
   "execution_count": 17,
   "metadata": {},
   "outputs": [],
   "source": [
    "def space_check(board, position):\n",
    "    return board[position]==' '"
   ]
  },
  {
   "cell_type": "code",
   "execution_count": 18,
   "metadata": {},
   "outputs": [
    {
     "data": {
      "text/plain": [
       "False"
      ]
     },
     "execution_count": 18,
     "metadata": {},
     "output_type": "execute_result"
    }
   ],
   "source": [
    "#to test the previous cell\n",
    "space_check(test_board,8)"
   ]
  },
  {
   "cell_type": "markdown",
   "metadata": {},
   "source": [
    "**Step 7: Write a function that checks if the board is full and returns a boolean value. True if full, False otherwise.**"
   ]
  },
  {
   "cell_type": "code",
   "execution_count": 19,
   "metadata": {},
   "outputs": [],
   "source": [
    "def full_board_check(board):\n",
    "    for i in range(1,len(test_board)):\n",
    "        if board[i]==' ':\n",
    "            return False\n",
    "            break\n",
    "    return True\n",
    "            "
   ]
  },
  {
   "cell_type": "code",
   "execution_count": 20,
   "metadata": {},
   "outputs": [
    {
     "data": {
      "text/plain": [
       "True"
      ]
     },
     "execution_count": 20,
     "metadata": {},
     "output_type": "execute_result"
    }
   ],
   "source": [
    "#to test the previous cell\n",
    "full_board_check(test_board)"
   ]
  },
  {
   "cell_type": "code",
   "execution_count": 21,
   "metadata": {},
   "outputs": [
    {
     "data": {
      "text/plain": [
       "False"
      ]
     },
     "execution_count": 21,
     "metadata": {},
     "output_type": "execute_result"
    }
   ],
   "source": [
    "#to test the previous cel\n",
    "another_board= ['#','X','O','X','O','X','O','X',' ','X']\n",
    "full_board_check(another_board)"
   ]
  },
  {
   "cell_type": "markdown",
   "metadata": {},
   "source": [
    "**Step 8: Write a function that asks for a player's next position (as a number 1-9) and then uses the function from step 6 to check if it's a free position. If it is, then return the position for later use.**"
   ]
  },
  {
   "cell_type": "code",
   "execution_count": 22,
   "metadata": {},
   "outputs": [],
   "source": [
    "def player_choice(board):\n",
    "    i=int(input('type next position: '))\n",
    "    if space_check(board, i):\n",
    "        return i"
   ]
  },
  {
   "cell_type": "markdown",
   "metadata": {},
   "source": [
    "**Step 9: Write a function that asks the player if they want to play again and returns a boolean True if they do want to play again.**"
   ]
  },
  {
   "cell_type": "code",
   "execution_count": 23,
   "metadata": {},
   "outputs": [],
   "source": [
    "def replay():\n",
    "    ask=input('if want to play again, type \"yes\" otherwise \"no\": ').lower()\n",
    "    return ask=='yes'"
   ]
  },
  {
   "cell_type": "code",
   "execution_count": 24,
   "metadata": {},
   "outputs": [
    {
     "name": "stdout",
     "output_type": "stream",
     "text": [
      "if want to play again, type \"yes\" otherwise \"no\": yes\n"
     ]
    },
    {
     "data": {
      "text/plain": [
       "True"
      ]
     },
     "execution_count": 24,
     "metadata": {},
     "output_type": "execute_result"
    }
   ],
   "source": [
    "#to test the previous cell\n",
    "replay()"
   ]
  },
  {
   "cell_type": "markdown",
   "metadata": {},
   "source": [
    "**Step 10: Here comes the hard part! Use while loops and the functions you've made to run the game!**"
   ]
  },
  {
   "cell_type": "code",
   "execution_count": 25,
   "metadata": {},
   "outputs": [
    {
     "name": "stdout",
     "output_type": "stream",
     "text": [
      "   |   |  \n",
      " o | x | o\n",
      "   |   |  \n",
      "---|---|--\n",
      "   |   |  \n",
      " x | x | o\n",
      "   |   |  \n",
      "---|---|--\n",
      "   |   |  \n",
      " x |   | o\n",
      "   |   |  \n",
      "player_2 has won the game. congratulations!\n",
      "if want to play again, type \"yes\" otherwise \"no\": no\n"
     ]
    }
   ],
   "source": [
    "from IPython.display import clear_output\n",
    "print('     welcome to tic tac toe game!    ')\n",
    "print('********')\n",
    "print('please turn off caps lock on your keyboard')\n",
    "print('*********')\n",
    "while True:\n",
    "    board=[' ']*10\n",
    "    #display_board(board)      #step1\n",
    "    player_1, player_2 = player_input()#step2\n",
    "    player=choice_first()  #step5\n",
    "    print('********')\n",
    "    print(f'{player} will go first')\n",
    "    print('********')\n",
    "    answer=input('do you want to start? \"Yes\" or \"No\": ')\n",
    "    if answer=='yes':\n",
    "        game_on= True\n",
    "    elif answer=='no':\n",
    "        game_on= False\n",
    "    else:\n",
    "        print('********')\n",
    "        print('please, type \"yes\" or \"no\", not number or any symbol ')\n",
    "    while game_on:\n",
    "        if player=='player_1':\n",
    "            clear_output()\n",
    "            display_board(board)\n",
    "            position=player_choice(board) #step8 ans which is connected to step6\n",
    "            place_marker(board,player_1,position)  #step3\n",
    "            if win_check(board,player_1):\n",
    "                clear_output()\n",
    "                display_board(board)\n",
    "                print(f'{player} has won the game. congratulations!')\n",
    "                game_on= False\n",
    "            else:\n",
    "                if full_board_check(board):\n",
    "                    display_board(board)\n",
    "                    print('the game is a tie')\n",
    "                    break\n",
    "                else:\n",
    "                    player='player_2'\n",
    "        elif player=='player_2':\n",
    "            clear_output()\n",
    "            display_board(board)\n",
    "            position=player_choice(board)\n",
    "            place_marker(board,player_2,position)\n",
    "            if win_check(board,player_2):\n",
    "                clear_output()\n",
    "                display_board(board)\n",
    "                print(f'{player} has won the game. congratulations!')\n",
    "                game_on= False\n",
    "            else:\n",
    "                if full_board_check(board):\n",
    "                    clear_output()\n",
    "                    display_board(board)\n",
    "                    print('the game is a tie')\n",
    "                    break\n",
    "                else:\n",
    "                    player='player_1'\n",
    "    if not replay():\n",
    "        break"
   ]
  },
  {
   "cell_type": "code",
   "execution_count": null,
   "metadata": {},
   "outputs": [],
   "source": []
  },
  {
   "cell_type": "code",
   "execution_count": null,
   "metadata": {},
   "outputs": [],
   "source": []
  }
 ],
 "metadata": {
  "kernelspec": {
   "display_name": "Python 3",
   "language": "python",
   "name": "python3"
  },
  "language_info": {
   "codemirror_mode": {
    "name": "ipython",
    "version": 3
   },
   "file_extension": ".py",
   "mimetype": "text/x-python",
   "name": "python",
   "nbconvert_exporter": "python",
   "pygments_lexer": "ipython3",
   "version": "3.7.4"
  }
 },
 "nbformat": 4,
 "nbformat_minor": 2
}
